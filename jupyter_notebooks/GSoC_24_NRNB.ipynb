{
  "cells": [
    {
      "cell_type": "code",
      "execution_count": 1,
      "metadata": {
        "colab": {
          "base_uri": "https://localhost:8080/"
        },
        "id": "rphTcxIsB3OY",
        "outputId": "254bd8bb-09c5-4a87-f7e0-4ef8f034c8bd"
      },
      "outputs": [
        {
          "name": "stdout",
          "output_type": "stream",
          "text": [
            "Note: you may need to restart the kernel to use updated packages.\n"
          ]
        }
      ],
      "source": [
        "%pip install -q openai"
      ]
    },
    {
      "cell_type": "code",
      "execution_count": 2,
      "metadata": {
        "colab": {
          "base_uri": "https://localhost:8080/"
        },
        "id": "fCy4j1yHaqFW",
        "outputId": "d45c40d4-22b6-4192-b5f1-55e50347a278"
      },
      "outputs": [
        {
          "name": "stdout",
          "output_type": "stream",
          "text": [
            "Note: you may need to restart the kernel to use updated packages.\n"
          ]
        }
      ],
      "source": [
        "%pip install --upgrade -q langchain-openai\n"
      ]
    },
    {
      "cell_type": "code",
      "execution_count": 3,
      "metadata": {
        "colab": {
          "base_uri": "https://localhost:8080/"
        },
        "id": "_Z96K0ZlcHmr",
        "outputId": "ea79034b-16d7-4ba9-f37f-4b003473486f"
      },
      "outputs": [
        {
          "name": "stdout",
          "output_type": "stream",
          "text": [
            "Note: you may need to restart the kernel to use updated packages.\n"
          ]
        }
      ],
      "source": [
        "%pip install -q pymupdf langchain"
      ]
    },
    {
      "cell_type": "code",
      "execution_count": 4,
      "metadata": {
        "id": "O8O66a9KBls7"
      },
      "outputs": [],
      "source": [
        "import os\n",
        "import openai\n",
        "import warnings\n",
        "from dotenv import load_dotenv\n",
        "warnings.filterwarnings(\"ignore\")"
      ]
    },
    {
      "cell_type": "code",
      "execution_count": 5,
      "metadata": {},
      "outputs": [
        {
          "data": {
            "text/plain": [
              "True"
            ]
          },
          "execution_count": 5,
          "metadata": {},
          "output_type": "execute_result"
        }
      ],
      "source": [
        "load_dotenv()"
      ]
    },
    {
      "cell_type": "code",
      "execution_count": 6,
      "metadata": {},
      "outputs": [],
      "source": [
        "OPENAI_API_KEY = os.environ.get(\"OPENAI_API_KEY\")"
      ]
    },
    {
      "cell_type": "code",
      "execution_count": 7,
      "metadata": {
        "id": "wRa2bgqwDk1c"
      },
      "outputs": [],
      "source": [
        "from typing import List, Optional\n",
        "import fitz\n",
        "from pydantic import BaseModel, Field\n",
        "from langchain_core.utils.function_calling import convert_pydantic_to_openai_function\n",
        "from langchain_core.prompts import ChatPromptTemplate\n",
        "from langchain_openai import ChatOpenAI\n",
        "from langchain.output_parsers.openai_functions import JsonKeyOutputFunctionsParser, JsonOutputFunctionsParser"
      ]
    },
    {
      "cell_type": "code",
      "execution_count": 8,
      "metadata": {
        "id": "xa1PUKKha918"
      },
      "outputs": [],
      "source": [
        "def read_pdf(file_path: str) -> str:\n",
        "    with fitz.open(file_path) as doc:\n",
        "        text = \"\"\n",
        "        for page in doc:\n",
        "            text += page.get_text()\n",
        "    return text"
      ]
    },
    {
      "cell_type": "code",
      "execution_count": 9,
      "metadata": {
        "id": "Kjutt3_daCOE"
      },
      "outputs": [],
      "source": [
        "model = ChatOpenAI(model = \"gpt-3.5-turbo\", temperature=0, openai_api_key=OPENAI_API_KEY)"
      ]
    },
    {
      "cell_type": "code",
      "execution_count": 10,
      "metadata": {
        "id": "0w907OybEXyN"
      },
      "outputs": [],
      "source": [
        "# Define Pydantic models for the data we want to extract\n",
        "class Interaction(BaseModel):\n",
        "    \"\"\"Information about molecular interactions mentioned.\"\"\"\n",
        "    entities_involved: List[str]\n",
        "    interaction_type: str\n",
        "    interaction_details: Optional[str]\n",
        "\n",
        "class Molecular_Interactions(BaseModel):\n",
        "    \"\"\"Information to extract.\"\"\"\n",
        "    interactions: List[Interaction]"
      ]
    },
    {
      "cell_type": "code",
      "execution_count": 11,
      "metadata": {
        "colab": {
          "base_uri": "https://localhost:8080/"
        },
        "id": "qY44Ug5wZuWy",
        "outputId": "75de5291-d9a9-4fcf-8eb1-e7c239f715d2"
      },
      "outputs": [
        {
          "name": "stderr",
          "output_type": "stream",
          "text": [
            "/opt/homebrew/anaconda3/lib/python3.11/site-packages/langchain_core/_api/deprecation.py:119: LangChainDeprecationWarning: The function `convert_pydantic_to_openai_function` was deprecated in LangChain 0.1.16 and will be removed in 0.3.0. Use langchain_core.utils.function_calling.convert_to_openai_function() instead.\n",
            "  warn_deprecated(\n"
          ]
        }
      ],
      "source": [
        "paper_extraction_function = [\n",
        "    convert_pydantic_to_openai_function(Molecular_Interactions)\n",
        "]\n",
        "extraction_model = model.bind(\n",
        "    functions=paper_extraction_function,\n",
        "    function_call={\"name\":\"Molecular_Interactions\"}\n",
        ")"
      ]
    },
    {
      "cell_type": "code",
      "execution_count": 12,
      "metadata": {
        "id": "skc9B3n1cUkU"
      },
      "outputs": [],
      "source": [
        "# Write a prompt for extracting molecular interactions\n",
        "template = \"\"\"A scientific paper will be provided to you. Ensure to extract all molecular interactions mentioned in this paper.\n",
        "\n",
        "Identify the entities involved in each interaction and describe the type of interaction (e.g., binding, inhibition, activation).\n",
        "\n",
        "If detailed interaction mechanisms or effects are mentioned, include those as well.\n",
        "\n",
        "Do not include any background information or general knowledge not directly related to the interactions described in the paper.\n",
        "\n",
        "Only extract and report on the specific molecular interactions that the paper presents.\"\"\"\n"
      ]
    },
    {
      "cell_type": "code",
      "execution_count": 13,
      "metadata": {
        "id": "lgsnu0QsdEwy"
      },
      "outputs": [],
      "source": [
        "# Define the extraction chain\n",
        "prompt = ChatPromptTemplate.from_messages([\n",
        "    (\"system\", template),\n",
        "    (\"human\", \"{input}\")\n",
        "])\n",
        "\n",
        "extraction_chain = prompt | extraction_model | JsonKeyOutputFunctionsParser(key_name=\"interactions\")"
      ]
    },
    {
      "cell_type": "code",
      "execution_count": 18,
      "metadata": {
        "id": "G9PU1H-KdQ2_"
      },
      "outputs": [],
      "source": [
        "doc = read_pdf(\"/Users/favourjames/Downloads/gsoc_llm/papers/pmc6044858.pdf\")"
      ]
    },
    {
      "cell_type": "code",
      "execution_count": 19,
      "metadata": {
        "id": "AtzUJ0jsdvJ-"
      },
      "outputs": [
        {
          "name": "stdout",
          "output_type": "stream",
          "text": [
            "roteinase 9\n",
            "(MMP-9) and syndecan 1 (CD138) serum levels were all increased in dengue patients, and\n",
            "only NS1 and MIF showed a positive correlation with the CD138 level in severe patients. To\n",
            "further characterize and clarify the relationship between MIF and CD138, we used recombi-\n",
            "nant NS1 to stimulate human cells in vitro and challenge mice in vivo. Our tabulated results\n",
            "suggested that NS1 stimulation could induce human endothelial cells to secrete HPA-1 and\n",
            "immune cells to secrete MMP-9, resulting in endothelial glycocalyx degradation and hyper-\n",
            "permeability. Moreover, HPA-1, MMP-9, and CD138 secretion after NS1 stimulation was\n",
            "blocked by MIF inhibitors or antibodies both in vitro and in mice. Taken together, these\n",
            "results suggest that MIF directly engages in dengue NS1-induced glycocalyx degradation\n",
            "and that targeting MIF may represent a possible therapeutic approach for preventing den-\n",
            "gue-induced vascular leakage.\n",
            "Author summary\n",
            "DENV NS1 induces endothelial glycocalyx degradation and hyperpermeability via HPA-1\n",
            "and MMP-9 activation in an MIF-dependent manner.\n",
            "PLOS Pathogens | https://doi.org/10.1371/journal.ppat.1007033\n",
            "April 27, 2018\n",
            "1 / 22\n",
            "a1111111111\n",
            "a1111111111\n",
            "a1111111111\n",
            "a1111111111\n",
            "a1111111111\n",
            "OPEN ACCESS\n",
            "Citation: Chen H-R, Chao C-H, Liu C-C, Ho T-S,\n",
            "Tsai H-P, Perng G-C, et al. (2018) Macrophage\n",
            "migration inhibitory factor is critical for dengue\n",
            "NS1-induced endothelial glycocalyx degradation\n",
            "and hyperpermeability. PLoS Pathog 14(4):\n",
            "e1007033. https://doi.org/10.1371/journal.\n",
            "ppat.1007033\n",
            "Editor: Ana Fernandez-Sesma, Icahn School of\n",
            "Medicine at Mount Sinai, UNITED STATES\n",
            "Received: November 15, 2017\n",
            "Accepted: April 16, 2018\n",
            "Published: April 27, 2018\n",
            "Copyright: © 2018 Chen et al. This is an open\n",
            "access article distributed under the terms of the\n",
            "Creative Commons Attribution License, which\n",
            "permits unrestricted use, distribution, and\n",
            "reproduction in any medium, provided the original\n",
            "author and source are credited.\n",
            "Data Availability Statement: All relevant data are\n",
            "within the paper and its Supporting Information\n",
            "files.\n",
            "Funding: This study was supported by grants from\n",
            "Ministry of Science and Technology of Taiwan\n",
            "(107-2321-B-006-001)(105-2320-B-006-034-\n",
            "MY3). The funders had no role in study design,\n",
            "data collection and analysis, decision to publish, or\n",
            "preparation of the manuscript.\n",
            "Introduction\n",
            "Dengue virus (DENV) is a flavivirus that infects approximately 390 million people and causes\n",
            "500,000 infections requiring hospitalization every year, with an associated mortality rate of\n",
            "2.5% [1]. DENV infection usually causes a flu-like illness, known as dengue fever (DF), which\n",
            "is associated with high-grade fever and joint pain. Most dengue patients recover without hos-\n",
            "pitalization, but in some cases, patients develop potentially deadly complications called dengue\n",
            "hemorrhagic fever or dengue shock syndrome (DHF/DSS). According to the latest guidelines\n",
            "from the World Health Organization (WHO), dengue severity can be classified into dengue\n",
            "with or without warning signs and severe dengue. One of the main characteristics of DHF/\n",
            "DSS or severe dengue is plasma leakage. The increase in vascular permeability is the primary\n",
            "cause of plasma leakage, which finally causes hypotension and circulatory collapse. Because\n",
            "the mechanism underlying vascular hyperpermeability during DENV infection is not yet fully\n",
            "understood, and no specific approved treatments are available; only supporting treatments,\n",
            "such as fluid therapy, are available.\n",
            "An increase in endothelial permeability is frequently associated with the degradation of the\n",
            "endothelial glycocalyx [2, 3]. Under normal physiological conditions, the glycocalyx acts as a\n",
            "barrier that controls numerous physiological processes, especially preventing the adhesion of\n",
            "leucocytes and platelets to the vessel walls [4, 5]. Degradation of the endothelial glycocalyx cor-\n",
            "relates to several vascular pathologies, including sepsis [6, 7]. Shedding of the endothelial gly-\n",
            "cocalyx is related to the activation of a heparan sulfate-specific heparanase, HPA-1 [5, 8].\n",
            "Activated HPA-1 enhances shedding of the transmembrane heparan sulfate proteoglycan syn-\n",
            "decan-1 (CD138) and elevates the level of CD138 in the bloodstream [7, 9, 10]. In addition,\n",
            "matrix metalloproteinases (MMPs) are capable of digesting many types of extracellular matrix,\n",
            "including the endothelial glycocalyx [11, 12]. Glycocalyx degradation is strongly associated\n",
            "with severe plasma leakage in dengue patients [13, 14]. However, the mechanisms causing gly-\n",
            "cocalyx degradation during DENV infection are not fully understood.\n",
            "Recently, DENV nonstructural protein 1 (NS1) was found to play an important role in the\n",
            "pathogenesis of DENV-induced vascular leakage [15–17]. In addition, NS1 can induce the\n",
            "expression and activation of HPA-1, leading to endothelial glycocalyx degradation and hyper-\n",
            "permeability [18]. In our previous study, we found that DENV NS1 can increase vascular per-\n",
            "meability through macrophage migration inhibitory factor (MIF)-induced autophagy [19].\n",
            "MIF is a chemokine-like inflammatory cytokine that binds to cell surface receptors (CD74\n",
            "and/or CXCR2/4/7) and activates downstream signals, such as MAPK/ERK, to modulate\n",
            "inflammatory and immune responses [20–25]. DENV infection can induce MIF secretion [26,\n",
            "27], and the concentration of MIF is positively correlated with dengue severity [28]. Further-\n",
            "more, DENV infection-induced disease was found to be less severe in MIF knockout (Mif-/-)\n",
            "mice than in normal mice [29]. However, it is unclear whether MIF is directly involved in\n",
            "NS1-induced glycocalyx degradation. To address this question, we studied the effects of NS1\n",
            "on the secretion of MIF, HPA-1, MMP-9, and CD138 both in vitro and in vivo. We found that\n",
            "the levels of MIF, HPA-1, MMP-9, and CD138 were all increased in the serum of dengue\n",
            "patients. Similar results were found both in vitro and in vivo after recombinant NS1 challenge.\n",
            "Most importantly, the NS1-induced increases in HPA-1, MMP-9, and CD138 were all inhib-\n",
            "ited in the presence of MIF inhibitors or antibodies both in vitro and in vivo, indicating that\n",
            "NS1-induced MIF secretion may play an important role in the pathogenesis of DENV NS1-in-\n",
            "duced glycocalyx degradation and vascular leakage.\n",
            "MIF in DENV NS1-induced endothelial glycocalyx degradation and hyperpermeability\n",
            "PLOS Pathogens | https://doi.org/10.1371/journal.ppat.1007033\n",
            "April 27, 2018\n",
            "2 / 22\n",
            "Competing interests: The authors have declared\n",
            "that no competing interests exist.\n",
            "Results\n",
            "Comparison of NS1, HPA-1, MMP-9, CD138 and MIF serum\n",
            "concentrations in dengue patients\n",
            "The concentrations of NS1 and glycocalyx degradation-related molecules in serum samples\n",
            "from healthy donors and dengue patients were measured by ELISA. The concentrations of\n",
            "NS1 and HPA-1 were increased in both dengue patients with warning signs and severe dengue\n",
            "patients (Fig 1A and 1B). The concentrations of MMP-9 were also significantly elevated in\n",
            "dengue patients with warning signs but not in severe dengue patients (Fig 1C). The concentra-\n",
            "tions of CD138 and MIF were significantly elevated in the serum of severe dengue patients\n",
            "compared to dengue patients with warning signs (Fig 1D and 1E). To further elucidate the cor-\n",
            "relation between CD138 and the other molecules, the serum concentrations of NS1, MIF,\n",
            "HPA-1 and MMP-9 in severe dengue patients were plotted against the concentration of\n",
            "CD138 (Fig 2). Only NS1 and MIF showed a positive correlation with CD138 in the sera of\n",
            "severe dengue patients (Fig 2A and 2B). Additionally, the viral load of severe dengue patients\n",
            "did not show a significantly positive correlation with any factor mentioned above (S1 Fig).\n",
            "These results suggest that NS1 and MIF may play important roles in CD138 shedding in severe\n",
            "dengue patients.\n",
            "DENV NS1-induced endothelial HPA-1 secretion leads to glycocalyx\n",
            "degradation and hyperpermeability and is MIF dependent\n",
            "According to a previous study, NS1 can induce endothelial cells to secrete HPA-1 to disrupt\n",
            "the endothelial glycocalyx, and this disruption is characterized by CD138 shedding [18]. To\n",
            "further investigate the underlying mechanism of NS1-induced HPA-1 secretion, human\n",
            "Fig 1. The serum concentrations of NS1, HPA-1, MMP-9, CD138 and MIF in healthy donors and dengue patients.\n",
            "The serum concentrations of (A) NS1 (B) HPA-1, (C) MMP-9, (D) CD138 and (E) MIF in healthy donors and dengue\n",
            "patients were compared as indicated. \u0003P<0.05; \u0003\u0003P<0.01; \u0003\u0003\u0003P<0.001; ns: not significant; ANOVA with Dunn’s test for\n",
            "multiple comparisons\n"
          ]
        }
      ],
      "source": [
        "page_content = doc[1481:10000]\n",
        "print(page_content)"
      ]
    },
    {
      "cell_type": "code",
      "execution_count": 20,
      "metadata": {
        "id": "7iTFx_bZdXDM"
      },
      "outputs": [],
      "source": [
        "results = extraction_chain.invoke({\"input\": page_content})"
      ]
    },
    {
      "cell_type": "code",
      "execution_count": 21,
      "metadata": {
        "colab": {
          "base_uri": "https://localhost:8080/"
        },
        "id": "rNoLlSdKeMpV",
        "outputId": "5ad47125-34b5-4add-f577-c61c26aca2b1"
      },
      "outputs": [
        {
          "data": {
            "text/plain": [
              "[{'entities_involved': ['MMP-9', 'syndecan 1 (CD138)'],\n",
              "  'interaction_type': 'activation',\n",
              "  'interaction_details': 'MMP-9 and CD138 levels were increased in dengue patients.'},\n",
              " {'entities_involved': ['NS1', 'CD138'],\n",
              "  'interaction_type': 'correlation',\n",
              "  'interaction_details': 'NS1 showed a positive correlation with CD138 level in severe patients.'},\n",
              " {'entities_involved': ['NS1', 'HPA-1'],\n",
              "  'interaction_type': 'induction',\n",
              "  'interaction_details': 'NS1 stimulation induced human endothelial cells to secrete HPA-1.'},\n",
              " {'entities_involved': ['NS1', 'MMP-9'],\n",
              "  'interaction_type': 'induction',\n",
              "  'interaction_details': 'NS1 stimulation induced immune cells to secrete MMP-9.'},\n",
              " {'entities_involved': ['NS1', 'endothelial cells'],\n",
              "  'interaction_type': 'effect',\n",
              "  'interaction_details': 'NS1 stimulation resulted in endothelial glycocalyx degradation and hyperpermeability.'},\n",
              " {'entities_involved': ['HPA-1', 'MMP-9'],\n",
              "  'interaction_type': 'effect',\n",
              "  'interaction_details': 'HPA-1 induced MMP-9 secretion.'},\n",
              " {'entities_involved': ['HPA-1', 'CD138'],\n",
              "  'interaction_type': 'effect',\n",
              "  'interaction_details': 'HPA-1 induced CD138 secretion.'},\n",
              " {'entities_involved': ['NS1', 'HPA-1', 'MMP-9', 'CD138'],\n",
              "  'interaction_type': 'blockage',\n",
              "  'interaction_details': 'MIF inhibitors or antibodies blocked HPA-1, MMP-9, and CD138 secretion after NS1 stimulation.'},\n",
              " {'entities_involved': ['MIF', 'NS1'],\n",
              "  'interaction_type': 'induction',\n",
              "  'interaction_details': 'NS1-induced MIF secretion.'},\n",
              " {'entities_involved': ['MIF', 'HPA-1', 'MMP-9', 'CD138'],\n",
              "  'interaction_type': 'inhibition',\n",
              "  'interaction_details': 'MIF inhibitors or antibodies inhibited NS1-induced increases in HPA-1, MMP-9, and CD138.'}]"
            ]
          },
          "execution_count": 21,
          "metadata": {},
          "output_type": "execute_result"
        }
      ],
      "source": [
        "results"
      ]
    },
    {
      "cell_type": "code",
      "execution_count": 22,
      "metadata": {
        "id": "xJ2vWnO1mGsA"
      },
      "outputs": [],
      "source": [
        "from langchain.text_splitter import RecursiveCharacterTextSplitter\n",
        "text_splitter = RecursiveCharacterTextSplitter(chunk_overlap=0)\n",
        "\n",
        "splits = text_splitter.split_text(page_content)"
      ]
    },
    {
      "cell_type": "code",
      "execution_count": 23,
      "metadata": {
        "colab": {
          "base_uri": "https://localhost:8080/"
        },
        "id": "H7KeKJh7n3v2",
        "outputId": "50dab377-00a0-49c3-8c92-b1518f2ca6a2"
      },
      "outputs": [
        {
          "data": {
            "text/plain": [
              "3"
            ]
          },
          "execution_count": 23,
          "metadata": {},
          "output_type": "execute_result"
        }
      ],
      "source": [
        "len(splits)"
      ]
    },
    {
      "cell_type": "code",
      "execution_count": 24,
      "metadata": {},
      "outputs": [
        {
          "data": {
            "text/plain": [
              "'cocalyx is related to the activation of a heparan sulfate-specific heparanase, HPA-1 [5, 8].\\nActivated HPA-1 enhances shedding of the transmembrane heparan sulfate proteoglycan syn-\\ndecan-1 (CD138) and elevates the level of CD138 in the bloodstream [7, 9, 10]. In addition,\\nmatrix metalloproteinases (MMPs) are capable of digesting many types of extracellular matrix,\\nincluding the endothelial glycocalyx [11, 12]. Glycocalyx degradation is strongly associated\\nwith severe plasma leakage in dengue patients [13, 14]. However, the mechanisms causing gly-\\ncocalyx degradation during DENV infection are not fully understood.\\nRecently, DENV nonstructural protein 1 (NS1) was found to play an important role in the\\npathogenesis of DENV-induced vascular leakage [15–17]. In addition, NS1 can induce the\\nexpression and activation of HPA-1, leading to endothelial glycocalyx degradation and hyper-\\npermeability [18]. In our previous study, we found that DENV NS1 can increase vascular per-\\nmeability through macrophage migration inhibitory factor (MIF)-induced autophagy [19].\\nMIF is a chemokine-like inflammatory cytokine that binds to cell surface receptors (CD74\\nand/or CXCR2/4/7) and activates downstream signals, such as MAPK/ERK, to modulate\\ninflammatory and immune responses [20–25]. DENV infection can induce MIF secretion [26,\\n27], and the concentration of MIF is positively correlated with dengue severity [28]. Further-\\nmore, DENV infection-induced disease was found to be less severe in MIF knockout (Mif-/-)\\nmice than in normal mice [29]. However, it is unclear whether MIF is directly involved in\\nNS1-induced glycocalyx degradation. To address this question, we studied the effects of NS1\\non the secretion of MIF, HPA-1, MMP-9, and CD138 both in vitro and in vivo. We found that\\nthe levels of MIF, HPA-1, MMP-9, and CD138 were all increased in the serum of dengue\\npatients. Similar results were found both in vitro and in vivo after recombinant NS1 challenge.\\nMost importantly, the NS1-induced increases in HPA-1, MMP-9, and CD138 were all inhib-\\nited in the presence of MIF inhibitors or antibodies both in vitro and in vivo, indicating that\\nNS1-induced MIF secretion may play an important role in the pathogenesis of DENV NS1-in-\\nduced glycocalyx degradation and vascular leakage.\\nMIF in DENV NS1-induced endothelial glycocalyx degradation and hyperpermeability\\nPLOS Pathogens | https://doi.org/10.1371/journal.ppat.1007033\\nApril 27, 2018\\n2 / 22\\nCompeting interests: The authors have declared\\nthat no competing interests exist.\\nResults\\nComparison of NS1, HPA-1, MMP-9, CD138 and MIF serum\\nconcentrations in dengue patients\\nThe concentrations of NS1 and glycocalyx degradation-related molecules in serum samples\\nfrom healthy donors and dengue patients were measured by ELISA. The concentrations of\\nNS1 and HPA-1 were increased in both dengue patients with warning signs and severe dengue\\npatients (Fig 1A and 1B). The concentrations of MMP-9 were also significantly elevated in\\ndengue patients with warning signs but not in severe dengue patients (Fig 1C). The concentra-\\ntions of CD138 and MIF were significantly elevated in the serum of severe dengue patients\\ncompared to dengue patients with warning signs (Fig 1D and 1E). To further elucidate the cor-\\nrelation between CD138 and the other molecules, the serum concentrations of NS1, MIF,\\nHPA-1 and MMP-9 in severe dengue patients were plotted against the concentration of\\nCD138 (Fig 2). Only NS1 and MIF showed a positive correlation with CD138 in the sera of\\nsevere dengue patients (Fig 2A and 2B). Additionally, the viral load of severe dengue patients\\ndid not show a significantly positive correlation with any factor mentioned above (S1 Fig).\\nThese results suggest that NS1 and MIF may play important roles in CD138 shedding in severe\\ndengue patients.\\nDENV NS1-induced endothelial HPA-1 secretion leads to glycocalyx\\ndegradation and hyperpermeability and is MIF dependent'"
            ]
          },
          "execution_count": 24,
          "metadata": {},
          "output_type": "execute_result"
        }
      ],
      "source": [
        "splits[1]"
      ]
    },
    {
      "cell_type": "code",
      "execution_count": null,
      "metadata": {
        "id": "rIej9eICoLjs"
      },
      "outputs": [],
      "source": [
        "# Define a function to flatten a 2D list (matrix) into a 1D list (flat list).\n",
        "def flatten(matrix):\n",
        "    flat_list = []\n",
        "    # Iterate through each row in the 2D list.\n",
        "    for row in matrix:\n",
        "        flat_list += row\n",
        "    # Return the flattened list.\n",
        "    return flat_list"
      ]
    },
    {
      "cell_type": "code",
      "execution_count": null,
      "metadata": {
        "id": "HBdjEktswaVg"
      },
      "outputs": [],
      "source": [
        "import time\n",
        "\n",
        "# Define a function that adds a delay to a Completion API call\n",
        "def delayed_completion(delay_in_seconds: float = 1, **kwargs):\n",
        "    \"\"\"Delay a completion by a specified amount of time.\"\"\"\n",
        "\n",
        "    # Sleep for the delay\n",
        "    time.sleep(delay_in_seconds)\n",
        "\n",
        "    # Call the Completion API and return the result\n",
        "    return ChatOpenAI(**kwargs)"
      ]
    },
    {
      "cell_type": "code",
      "execution_count": null,
      "metadata": {
        "id": "uzUkaIPKwqQA"
      },
      "outputs": [],
      "source": [
        "# Calculate the delay based on your rate limit\n",
        "rate_limit_per_minute = 3\n",
        "delay = 60.0 / rate_limit_per_minute"
      ]
    },
    {
      "cell_type": "code",
      "execution_count": null,
      "metadata": {
        "id": "Xlq76N-EwZRY"
      },
      "outputs": [],
      "source": [
        "timed_model = delayed_completion(delay_in_seconds=delay, model = \"gpt-3.5-turbo\",\n",
        "                                 temperature=0, openai_api_key=OPENAI_API_KEY)"
      ]
    },
    {
      "cell_type": "code",
      "execution_count": null,
      "metadata": {
        "id": "wioKSgxWxKuS"
      },
      "outputs": [],
      "source": [
        "extraction_timed_model = timed_model.bind(\n",
        "    functions=paper_extraction_function,\n",
        "    function_call={\"name\":\"Molecular_Interactions\"}\n",
        ")"
      ]
    },
    {
      "cell_type": "code",
      "execution_count": null,
      "metadata": {
        "id": "srdF02I2xUKe"
      },
      "outputs": [],
      "source": [
        "extraction_timed_chain = prompt | extraction_timed_model | JsonKeyOutputFunctionsParser(key_name=\"interactions\")"
      ]
    },
    {
      "cell_type": "code",
      "execution_count": null,
      "metadata": {
        "id": "ocSJ9UlfoP3J"
      },
      "outputs": [],
      "source": [
        "from langchain.schema.runnable import RunnableLambda"
      ]
    },
    {
      "cell_type": "code",
      "execution_count": null,
      "metadata": {
        "id": "OoGHR_iMoeiy"
      },
      "outputs": [],
      "source": [
        "# Create a RunnableLambda which is a function that can be used in a chain.\n",
        "# It takes a text input, splits it using the text splitter, and wraps each chunk in a dictionary.\n",
        "\n",
        "prep = RunnableLambda(\n",
        "    lambda x: [{\"input\": doc} for doc in text_splitter.split_text(x)]\n",
        ")"
      ]
    },
    {
      "cell_type": "code",
      "execution_count": null,
      "metadata": {
        "id": "nR1ozZCZoicO"
      },
      "outputs": [],
      "source": [
        "chain = prep | extraction_timed_chain.map() | flatten"
      ]
    },
    {
      "cell_type": "code",
      "execution_count": null,
      "metadata": {
        "id": "SwrMFStXUy-9"
      },
      "outputs": [],
      "source": [
        "page_content = doc[1481:20000]\n",
        "# print(page_content)"
      ]
    },
    {
      "cell_type": "code",
      "execution_count": null,
      "metadata": {
        "id": "9W0XsFoeonob"
      },
      "outputs": [],
      "source": [
        "results = chain.invoke(page_content)"
      ]
    },
    {
      "cell_type": "code",
      "execution_count": null,
      "metadata": {
        "colab": {
          "base_uri": "https://localhost:8080/"
        },
        "id": "MYZ8P-49DPxs",
        "outputId": "15515c07-b8ca-4860-a0e9-0eb73a2ebd6f"
      },
      "outputs": [
        {
          "data": {
            "text/plain": [
              "[{'entities_involved': ['miRNA', 'DNA'],\n",
              "  'interaction_type': 'regulation',\n",
              "  'interaction_details': 'miRNA regulates more than 60% of all human protein-coding genes at the post-transcriptional level.'},\n",
              " {'entities_involved': ['miRNA', 'mRNA'],\n",
              "  'interaction_type': 'regulation',\n",
              "  'interaction_details': 'miRNA enhances or represses the translation of mRNA at the post-transcriptional level.'},\n",
              " {'entities_involved': ['miRNA', 'messenger RNA (mRNA)'],\n",
              "  'interaction_type': 'binding',\n",
              "  'interaction_details': 'miRNA binds to mRNA to synergistically repress translation'},\n",
              " {'entities_involved': ['miRNA', 'mRNA'],\n",
              "  'interaction_type': 'binding',\n",
              "  'interaction_details': 'miRNA binds to mRNA with a short target sequence that may be common between different groups of miRNAs'},\n",
              " {'entities_involved': ['miRNA', 'mRNA'],\n",
              "  'interaction_type': 'degradation',\n",
              "  'interaction_details': 'miRNA triggers mRNA degradation pathway to downregulate protein production'},\n",
              " {'entities_involved': ['miRNA', 'mRNA'],\n",
              "  'interaction_type': 'binding',\n",
              "  'interaction_details': 'miRNA can interact with the 3′ untranslated region (UTR) of mRNA with a perfect or near-perfect ~7-nucleotide base pairing with the seed sequence in miRNA'},\n",
              " {'entities_involved': ['miRNA', 'mRNA'],\n",
              "  'interaction_type': 'binding',\n",
              "  'interaction_details': 'miRNA can alternatively interact with the 5′ UTR or coding sequence (CDS) of mRNA to affect stability or translation'},\n",
              " {'entities_involved': ['miRNA', 'mRNA'],\n",
              "  'interaction_type': 'degradation',\n",
              "  'interaction_details': 'miRNA destabilizes the target mRNA, accelerating the standard degradation process'},\n",
              " {'entities_involved': ['miRNA', 'mRNA'],\n",
              "  'interaction_type': 'cleavage',\n",
              "  'interaction_details': 'In rare cases with extensive base pairing, AGO may directly cleave mRNA, making it susceptible to rapid degradation'},\n",
              " {'entities_involved': ['miRNA', 'mRNA'],\n",
              "  'interaction_type': 'upregulation',\n",
              "  'interaction_details': 'miRNA has been shown to upregulate translation in some cases'},\n",
              " {'entities_involved': ['miRNA', 'mRNA'],\n",
              "  'interaction_type': 'regulation',\n",
              "  'interaction_details': 'miRNA may directly regulate transcription via promotor interactions or indirectly by targeting the mRNA of transcriptional regulators'},\n",
              " {'entities_involved': ['miRNA', 'non-coding RNAs'],\n",
              "  'interaction_type': 'binding',\n",
              "  'interaction_details': 'miRNA can bind to non-coding RNAs, including long non-coding RNA (lnc-RNA), circular RNA (circ-RNA), and other miRNAs'},\n",
              " {'entities_involved': ['miRNA', 'target mRNAs'],\n",
              "  'interaction_type': 'cleavage',\n",
              "  'interaction_details': 'miRNA-directed endonucleolytic cleavage of target mRNAs'},\n",
              " {'entities_involved': ['miR-181a', 'immune cell processes'],\n",
              "  'interaction_type': 'regulation',\n",
              "  'interaction_details': 'miR-181a is involved in T cell development, homeostasis, activation, and proliferation. It may play a role in B cell development and promotes Natural Killer (NK) cell development from Hematopoietic Progenitor Cells (HPCs). It inhibits the production of IL-1a and other inflammatory factors in macrophages and monocytes. It regulates monocyte-derived dendritic cell activation and the release of inflammatory cytokines.'},\n",
              " {'entities_involved': ['miR-126',\n",
              "   'miR-146a',\n",
              "   'miR-150',\n",
              "   'miR-17-92',\n",
              "   'T cell development'],\n",
              "  'interaction_type': 'regulation',\n",
              "  'interaction_details': 'Differential expression of miR-126, miR-146a, miR-150, and miR-17-92 is involved in the regulation of T cell development in the thymus.'},\n",
              " {'entities_involved': ['miR-125b', 'miR-10a', 'immune cells'],\n",
              "  'interaction_type': 'regulation',\n",
              "  'interaction_details': 'Expression levels of miR-125b and miR-10a decrease with differentiation, affecting key physiological differences between immune cells. miR-125b targets transcription factors involved in B cell and T cell differentiation, while miR-10a targets transcription factors required for monocytopoiesis and megakaryocyte differentiation.'},\n",
              " {'entities_involved': ['miR-142',\n",
              "   'type 1 Innate Lymphoid Cells (ILCs)',\n",
              "   'NK cells',\n",
              "   'cytokines'],\n",
              "  'interaction_type': 'regulation',\n",
              "  'interaction_details': 'miR-142 maintains cell levels of type 1 Innate Lymphoid Cells (ILCs) and NK cell survival. It influences the response to cytokines, contributing to the susceptibility of miR-142-deficient mice to Murine Cytomegalovirus (MCMV) infection.'},\n",
              " {'entities_involved': ['KSHV', 'ACE2'],\n",
              "  'interaction_type': 'binding',\n",
              "  'interaction_details': 'Interaction between KSHV and ACE2 on the host cell surface for internalization and establishment of infection.'},\n",
              " {'entities_involved': ['KSHV', 'integrins'],\n",
              "  'interaction_type': 'binding',\n",
              "  'interaction_details': 'Interaction between KSHV and integrins on the host cell surface for internalization and establishment of infection.'},\n",
              " {'entities_involved': ['v-miRs', 'host mRNA'],\n",
              "  'interaction_type': 'binding',\n",
              "  'interaction_details': 'v-miRs targeting host mRNA directly, binding to the 3′ or 5′ UTR to destabilize the transcript and trigger degradation pathway of cellular mRNAs.'},\n",
              " {'entities_involved': ['v-miRs', 'host mRNA'],\n",
              "  'interaction_type': 'binding',\n",
              "  'interaction_details': 'v-miRs binding to the 5′UTR of host mRNA, preventing translation without altering mRNA levels in the cell.'},\n",
              " {'entities_involved': ['v-miRs', 'host mRNA'],\n",
              "  'interaction_type': 'binding',\n",
              "  'interaction_details': 'v-miRs binding to the 5′UTR of host mRNA, increasing mRNA stability, preventing degradation, and upregulating gene expression.'},\n",
              " {'entities_involved': ['v-miRs', 'RNA viral genome'],\n",
              "  'interaction_type': 'binding',\n",
              "  'interaction_details': 'v-miRs binding to the 5′ non-translated region (NTR) of RNA viral genome, increasing RNA viral genome stability.'},\n",
              " {'entities_involved': ['v-miRs', 'host miRNAs'],\n",
              "  'interaction_type': 'binding',\n",
              "  'interaction_details': 'v-miRs acting as functional mimics of host miRNAs by targeting unique binding sites or binding to the same site as corresponding endogenous miRNAs.'},\n",
              " {'entities_involved': ['HCV', 'host miRNAs'],\n",
              "  'interaction_type': 'regulation',\n",
              "  'interaction_details': 'HCV regulating endogenous miRNA levels in infected cells.'},\n",
              " {'entities_involved': ['viruses', 'host miRNAs'],\n",
              "  'interaction_type': 'regulation',\n",
              "  'interaction_details': 'Viruses inducing the synthesis of host miRNAs upon entry, encoding proteins that degrade or upregulate host miRNAs.'}]"
            ]
          },
          "execution_count": 40,
          "metadata": {},
          "output_type": "execute_result"
        }
      ],
      "source": [
        "results"
      ]
    },
    {
      "cell_type": "code",
      "execution_count": null,
      "metadata": {
        "id": "UzCoO6zuewNW"
      },
      "outputs": [],
      "source": [
        "import json\n",
        "\n",
        "\n",
        "def convert_to_cx2(extracted_data):\n",
        "    # Initialize the CX2 format structure\n",
        "    cx2_network = {\n",
        "        \"nodes\": [],\n",
        "        \"edges\": [],\n",
        "        \"networkAttributes\": [],\n",
        "        \"nodeAttributes\": [],\n",
        "        \"edgeAttributes\": []\n",
        "    }\n",
        "\n",
        "    # Define node and edge ids\n",
        "    node_id = 1\n",
        "    edge_id = 1\n",
        "\n",
        "    # Maps to keep track of nodes and ensure they're unique\n",
        "    nodes_map = {}\n",
        "\n",
        "    # Process each interaction\n",
        "    for interaction in extracted_data:\n",
        "        for entity in interaction['entities_involved']:\n",
        "            if entity not in nodes_map:\n",
        "                nodes_map[entity] = node_id\n",
        "                cx2_network['nodes'].append({\"@id\": node_id, \"n\": entity})\n",
        "                node_id += 1\n",
        "\n",
        "        source_node_id = nodes_map[interaction['entities_involved'][0]]\n",
        "        target_node_id = nodes_map[interaction['entities_involved'][1]]\n",
        "\n",
        "        # Add edge based on the interaction\n",
        "        cx2_network['edges'].append({\"@id\": edge_id, \"s\": source_node_id, \"t\": target_node_id, \"i\": interaction['interaction_type']})\n",
        "        edge_id += 1\n",
        "\n",
        "        # Optionally, add edge attributes if interaction_details are present\n",
        "        if interaction.get('interaction_details'):\n",
        "            cx2_network['edgeAttributes'].append({\n",
        "                \"po\": edge_id - 1,          #property_of edge attribute\n",
        "                \"n\": \"interaction_details\",\n",
        "                \"v\": interaction['interaction_details']\n",
        "            })\n",
        "\n",
        "    return cx2_network"
      ]
    },
    {
      "cell_type": "code",
      "execution_count": null,
      "metadata": {
        "id": "7vwB8-C4jhtl"
      },
      "outputs": [],
      "source": [
        "# Convert extracted data to CX2 format\n",
        "cx2_network = convert_to_cx2(results)\n",
        "\n",
        "# Convert CX2 data to JSON\n",
        "cx2_json = json.dumps(cx2_network, indent=4)"
      ]
    },
    {
      "cell_type": "code",
      "execution_count": null,
      "metadata": {
        "colab": {
          "base_uri": "https://localhost:8080/"
        },
        "id": "6pf83PvQnLR2",
        "outputId": "77bfd7e5-3149-44ef-cfaf-999176043570"
      },
      "outputs": [
        {
          "data": {
            "text/plain": [
              "{'nodes': [{'@id': 1, 'n': 'miRNA'},\n",
              "  {'@id': 2, 'n': 'mRNA'},\n",
              "  {'@id': 3, 'n': 'AGO proteins'},\n",
              "  {'@id': 4, 'n': 'HOXB8 mRNA'},\n",
              "  {'@id': 5, 'n': 'TUSC2'},\n",
              "  {'@id': 6, 'n': 'SERBP1'},\n",
              "  {'@id': 7, 'n': 'Rtl1/Peg11'}],\n",
              " 'edges': [{'@id': 1, 's': 1, 't': 2, 'i': 'regulation'},\n",
              "  {'@id': 2, 's': 1, 't': 3, 'i': 'cleavage'},\n",
              "  {'@id': 3, 's': 1, 't': 4, 'i': 'cleavage'},\n",
              "  {'@id': 4, 's': 1, 't': 5, 'i': 'cleavage'},\n",
              "  {'@id': 5, 's': 1, 't': 6, 'i': 'cleavage'},\n",
              "  {'@id': 6, 's': 1, 't': 7, 'i': 'cleavage'}],\n",
              " 'networkAttributes': [],\n",
              " 'nodeAttributes': [],\n",
              " 'edgeAttributes': [{'po': 1,\n",
              "   'n': 'interaction_details',\n",
              "   'v': \"miRNA regulates mRNA translation by binding to the 3' UTR, coding sequence (CDS), or 5' UTR of mRNA. This interaction can lead to mRNA degradation, decreased ribosomal interaction, or upregulation of translation.\"},\n",
              "  {'po': 2,\n",
              "   'n': 'interaction_details',\n",
              "   'v': 'miRNA can cleave target mRNAs in a site-specific manner, known as RNA interference (RNAi), utilizing AGO proteins for the cleavage process.'},\n",
              "  {'po': 3,\n",
              "   'n': 'interaction_details',\n",
              "   'v': 'miR-196 regulates gene expression by cleaving HOXB8 mRNA, demonstrating miRNA cleavage activity.'},\n",
              "  {'po': 4,\n",
              "   'n': 'interaction_details',\n",
              "   'v': 'Let-7 miRNA targets TUSC2 mRNA for cleavage.'},\n",
              "  {'po': 5,\n",
              "   'n': 'interaction_details',\n",
              "   'v': 'miR-92 targets SERBP1 mRNA for cleavage.'},\n",
              "  {'po': 6,\n",
              "   'n': 'interaction_details',\n",
              "   'v': 'miR-127 and miR-136 target Rtl1/Peg11 mRNA for cleavage.'}]}"
            ]
          },
          "execution_count": 19,
          "metadata": {},
          "output_type": "execute_result"
        }
      ],
      "source": [
        "cx2_network"
      ]
    },
    {
      "cell_type": "code",
      "execution_count": null,
      "metadata": {
        "id": "IbVfPGfrMI7w"
      },
      "outputs": [],
      "source": []
    }
  ],
  "metadata": {
    "colab": {
      "provenance": []
    },
    "kernelspec": {
      "display_name": "Python 3",
      "name": "python3"
    },
    "language_info": {
      "codemirror_mode": {
        "name": "ipython",
        "version": 3
      },
      "file_extension": ".py",
      "mimetype": "text/x-python",
      "name": "python",
      "nbconvert_exporter": "python",
      "pygments_lexer": "ipython3",
      "version": "3.11.3"
    }
  },
  "nbformat": 4,
  "nbformat_minor": 0
}
