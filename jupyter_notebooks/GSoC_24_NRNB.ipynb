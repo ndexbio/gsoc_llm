{
  "cells": [
    {
      "cell_type": "code",
      "execution_count": 4,
      "metadata": {
        "colab": {
          "base_uri": "https://localhost:8080/"
        },
        "id": "rphTcxIsB3OY",
        "outputId": "254bd8bb-09c5-4a87-f7e0-4ef8f034c8bd"
      },
      "outputs": [
        {
          "name": "stdout",
          "output_type": "stream",
          "text": [
            "Note: you may need to restart the kernel to use updated packages.\n"
          ]
        }
      ],
      "source": [
        "%pip install -q openai"
      ]
    },
    {
      "cell_type": "code",
      "execution_count": 5,
      "metadata": {
        "colab": {
          "base_uri": "https://localhost:8080/"
        },
        "id": "fCy4j1yHaqFW",
        "outputId": "d45c40d4-22b6-4192-b5f1-55e50347a278"
      },
      "outputs": [
        {
          "name": "stdout",
          "output_type": "stream",
          "text": [
            "Note: you may need to restart the kernel to use updated packages.\n"
          ]
        }
      ],
      "source": [
        "%pip install --upgrade -q langchain-openai\n"
      ]
    },
    {
      "cell_type": "code",
      "execution_count": 6,
      "metadata": {
        "colab": {
          "base_uri": "https://localhost:8080/"
        },
        "id": "_Z96K0ZlcHmr",
        "outputId": "ea79034b-16d7-4ba9-f37f-4b003473486f"
      },
      "outputs": [
        {
          "name": "stdout",
          "output_type": "stream",
          "text": [
            "Note: you may need to restart the kernel to use updated packages.\n"
          ]
        }
      ],
      "source": [
        "%pip install -q pymupdf langchain"
      ]
    },
    {
      "cell_type": "code",
      "execution_count": 2,
      "metadata": {
        "id": "O8O66a9KBls7"
      },
      "outputs": [],
      "source": [
        "import os\n",
        "import openai\n",
        "import warnings\n",
        "from dotenv import load_dotenv\n",
        "warnings.filterwarnings(\"ignore\")"
      ]
    },
    {
      "cell_type": "code",
      "execution_count": 3,
      "metadata": {},
      "outputs": [
        {
          "data": {
            "text/plain": [
              "True"
            ]
          },
          "execution_count": 3,
          "metadata": {},
          "output_type": "execute_result"
        }
      ],
      "source": [
        "load_dotenv()"
      ]
    },
    {
      "cell_type": "code",
      "execution_count": 8,
      "metadata": {},
      "outputs": [],
      "source": [
        "OPENAI_API_KEY = os.environ.get(\"OPENAI_API_KEY\")"
      ]
    },
    {
      "cell_type": "code",
      "execution_count": 1,
      "metadata": {
        "id": "wRa2bgqwDk1c"
      },
      "outputs": [],
      "source": [
        "from typing import List, Optional\n",
        "import fitz\n",
        "from pydantic import BaseModel, Field\n",
        "from langchain_core.utils.function_calling import convert_pydantic_to_openai_function\n",
        "from langchain_core.prompts import ChatPromptTemplate\n",
        "from langchain_openai import ChatOpenAI\n",
        "from langchain.output_parsers.openai_functions import JsonKeyOutputFunctionsParser, JsonOutputFunctionsParser"
      ]
    },
    {
      "cell_type": "code",
      "execution_count": 14,
      "metadata": {
        "id": "xa1PUKKha918"
      },
      "outputs": [],
      "source": [
        "def read_pdf(file_path: str) -> str:\n",
        "    with fitz.open(file_path) as doc:\n",
        "        text = \"\"\n",
        "        for page in doc:\n",
        "            text += page.get_text()\n",
        "    return text"
      ]
    },
    {
      "cell_type": "code",
      "execution_count": 15,
      "metadata": {
        "id": "Kjutt3_daCOE"
      },
      "outputs": [],
      "source": [
        "model = ChatOpenAI(model = \"gpt-3.5-turbo\", temperature=0, openai_api_key=OPENAI_API_KEY)"
      ]
    },
    {
      "cell_type": "code",
      "execution_count": 16,
      "metadata": {
        "id": "0w907OybEXyN"
      },
      "outputs": [],
      "source": [
        "# Define Pydantic models for the data we want to extract\n",
        "class Interaction(BaseModel):\n",
        "    \"\"\"Information about molecular interactions mentioned.\"\"\"\n",
        "    entities_involved: List[str]\n",
        "    interaction_type: str\n",
        "    interaction_details: Optional[str]\n",
        "\n",
        "class Molecular_Interactions(BaseModel):\n",
        "    \"\"\"Information to extract.\"\"\"\n",
        "    interactions: List[Interaction]"
      ]
    },
    {
      "cell_type": "code",
      "execution_count": 17,
      "metadata": {
        "colab": {
          "base_uri": "https://localhost:8080/"
        },
        "id": "qY44Ug5wZuWy",
        "outputId": "75de5291-d9a9-4fcf-8eb1-e7c239f715d2"
      },
      "outputs": [
        {
          "name": "stderr",
          "output_type": "stream",
          "text": [
            "/opt/homebrew/anaconda3/lib/python3.11/site-packages/langchain_core/_api/deprecation.py:119: LangChainDeprecationWarning: The function `convert_pydantic_to_openai_function` was deprecated in LangChain 0.1.16 and will be removed in 0.3.0. Use langchain_core.utils.function_calling.convert_to_openai_function() instead.\n",
            "  warn_deprecated(\n"
          ]
        }
      ],
      "source": [
        "paper_extraction_function = [\n",
        "    convert_pydantic_to_openai_function(Molecular_Interactions)\n",
        "]\n",
        "extraction_model = model.bind(\n",
        "    functions=paper_extraction_function,\n",
        "    function_call={\"name\":\"Molecular_Interactions\"}\n",
        ")"
      ]
    },
    {
      "cell_type": "code",
      "execution_count": 18,
      "metadata": {
        "id": "skc9B3n1cUkU"
      },
      "outputs": [],
      "source": [
        "# Write a prompt for extracting molecular interactions\n",
        "template = \"\"\"A scientific paper will be provided to you. Ensure to extract all molecular interactions mentioned in this paper.\n",
        "\n",
        "Identify the entities involved in each interaction and describe the type of interaction (e.g., binding, inhibition, activation).\n",
        "\n",
        "If detailed interaction mechanisms or effects are mentioned, include those as well.\n",
        "\n",
        "Do not include any background information or general knowledge not directly related to the interactions described in the paper.\n",
        "\n",
        "Only extract and report on the specific molecular interactions that the paper presents.\"\"\"\n"
      ]
    },
    {
      "cell_type": "code",
      "execution_count": 19,
      "metadata": {
        "id": "lgsnu0QsdEwy"
      },
      "outputs": [],
      "source": [
        "# Define the extraction chain\n",
        "prompt = ChatPromptTemplate.from_messages([\n",
        "    (\"system\", template),\n",
        "    (\"human\", \"{input}\")\n",
        "])\n",
        "\n",
        "extraction_chain = prompt | extraction_model | JsonKeyOutputFunctionsParser(key_name=\"interactions\")"
      ]
    },
    {
      "cell_type": "code",
      "execution_count": 20,
      "metadata": {
        "id": "G9PU1H-KdQ2_"
      },
      "outputs": [],
      "source": [
        "doc = read_pdf(\"/Users/favourjames/Downloads/gsoc_llm/biology-12-01334.pdf\")"
      ]
    },
    {
      "cell_type": "code",
      "execution_count": 21,
      "metadata": {
        "id": "AtzUJ0jsdvJ-"
      },
      "outputs": [
        {
          "name": "stdout",
          "output_type": "stream",
          "text": [
            "Simple Summary: Viral outbreaks continue to be an obstacle to human health, with the Severe\n",
            "Acute Respiratory Syndrome-related Coronavirus (SARS-CoV-2) pandemic shedding light on the\n",
            "current vulnerabilities of our healthcare system. Understanding viral pathology is paramount in\n",
            "developing methods to combat infection. The study of microRNAs (miRNAs) is relatively new to the\n",
            "world of virology research. These small strands of nucleotides are a versatile tool in the regulation of\n",
            "gene expression. Various miRNAs have roles in immune development, immune and inﬂammatory\n",
            "responses, and viral infections. Changes in miRNA expression can be a double-edged sword, used\n",
            "to alter cell activities to help the host ﬁght infections or taken advantage of by viruses to enhance\n",
            "infection. Uncovering these interactions and their implications can provide direction for therapeutic\n",
            "and diagnostic advancement. Further, miRNAs may have the potential to predict the severity of\n",
            "viral infection and possible health outcomes, as well as track disease progression to inform treatment\n",
            "options. miRNA technology is also anticipated to be highly marketable and has already entered the\n",
            "realm of commercial biopharmaceuticals. Continuing to elucidate the functions of miRNA during\n",
            "infection and the therapeutic potential of these molecules will contribute to new strategies in the\n",
            "battle against current and future viral pathogens.\n",
            "Abstract: Since the discovery of microRNAs (miRNAs) in C. elegans in 1993, the ﬁeld of miRNA\n",
            "research has grown steeply. These single-stranded non-coding RNA molecules canonically work at\n",
            "the post-transcriptional phase to regulate protein expression. miRNAs are known to regulate viral\n",
            "infection and the ensuing host immune response. Evolving research suggests miRNAs are assets\n",
            "in the discovery and investigation of therapeutics and diagnostics. In this review, we succinctly\n",
            "summarize the latest ﬁndings in (i) mechanisms underpinning miRNA regulation of viral infection,\n",
            "(ii) miRNA regulation of host immune response to viral pathogens, (iii) miRNA-based diagnostics\n",
            "and therapeutics targeting viral pathogens and challenges, and (iv) miRNA patents and the market\n",
            "landscape. Our ﬁndings show the differential expression of miRNA may serve as a prognostic\n",
            "biomarker for viral infections in regard to predicting the severity or adverse health effects associated\n",
            "with viral diseases. While there is huge market potential for miRNA technology, the novel approach\n",
            "of using miRNA mimics to enhance antiviral activity or antagonists to inhibit pro-viral miRNAs\n",
            "has been an ongoing research endeavor. Signiﬁcant hurdles remain in terms of miRNA delivery,\n",
            "stability, efﬁcacy, safety/tolerability, and speciﬁcity. Addressing these challenges may pave a path for\n",
            "harnessing the full potential of miRNAs in modern medicine.\n",
            "Keywords: microRNA; miRNA; viral infection; miRNA therapeutics; miRNA diagnostics\n",
            "Biology 2023, 12, 1334. https://doi.org/10.3390/biology12101334\n",
            "https://www.mdpi.com/journal/biology\n",
            "Biology 2023, 12, 1334\n",
            "2 of 23\n",
            "1. Introduction\n",
            "The central dogma of biology posits a deceivingly straightforward process. It describes\n",
            "how DNA is transcribed into RNA, which is then translated into protein, or not. In fact,\n",
            "only 1–2% of the transcribed genome encodes proteins in mammals [1]. Most of the DNA\n",
            "in eukaryotic cells is non-coding.\n",
            "MicroRNA (miRNA) is one of the many types of non-coding RNA found in eukary-\n",
            "otes [2]. Despite their average length of a mere ~22 base pairs, these small strands of\n",
            "nucleotides are predicted to regulate more than 60% of all human protein-coding genes [3].\n",
            "They typically work at the post-transcriptional level to enhance or repress the translation\n",
            "of mRNA, though some evidence suggests they may also have regulatory functions at the\n",
            "transcriptional level [4]. But how does something so small make such a big impact? The\n",
            "minute size of miRNA contributes to its ability as a strong regulatory element. Functionally,\n",
            "the short sequence may allow room for multiple miRNAs to bind to a single messenger\n",
            "RNA (mRNA) and synergistically repress translation [5]. On the other hand, the target\n",
            "sequence in mRNA is also short and may be common between different groups of mR-\n",
            "NAs [6]. Thus, a single miRNA has the potential to bind to many types of mRNAs. The\n",
            "regulatory effect of miRNA is further ampliﬁed by its ability to be released for reuse after\n",
            "its target has been degraded [4]. These traits allow miRNAs to act alone or in combination\n",
            "to rapidly suppress gene expression and protein production.\n",
            "Because of its key role in regulation, the miRNA biogenesis pathway is highly con-\n",
            "served between species [7]. It begins in the nucleus, where the corresponding gene is\n",
            "transcribed into primary miRNA (pri-miRNA) [7]. This pri-miRNA is then modiﬁed, and\n",
            "the resulting precursor miRNA (pre-miRNA) is transported to the cytoplasm via nuclear\n",
            "pores [6,7]. Once in the cytosol, precursor miRNA is processed, and the mature miRNA\n",
            "duplex binds to the RNA-induced silencing complex (RISC) [6]. The Argonaute (AGO)\n",
            "protein family within RISC, along with various cofactors, unwind the miRNA duplex and\n",
            "select one of the strands [6]. The AGO protein is largely responsible for transporting the\n",
            "complex to a mRNA with a short complimentary sequence [7]. In animals, this sequence\n",
            "is often in the 3′ untranslated region (UTR) of the mRNA with a perfect or near-perfect\n",
            "~7-nucleotide base pairing with the seed sequence in miRNA [8]. This interaction typically\n",
            "triggers the mRNA degradation pathway to downregulate protein production [9]. In some\n",
            "instances, miRNA can alternatively interact with the 5′ UTR or coding sequence (CDS) of\n",
            "mRNA to affect stability or translation [10–14].\n",
            "Translation may be directly repressed by miRNA through decreased ribosomal inter-\n",
            "action with the mRNA [9]. More often, the target mRNA is destabilized, accelerating the\n",
            "standard degradation process [9]. In rare cases where the base pairing is much more exten-\n",
            "sive, AGO may directly cleave mRNA, making it susceptible to rapid degradation [4,9]. In\n",
            "contrast, miRNA has been shown to upregulate translation in some cases [15,16]. It may\n",
            "also directly regulate transcription via promotor interactions or indirectly by targeting the\n",
            "mRNA of transcriptional regulators [4,17]. Additionally, miRNA can bind to non-coding\n",
            "RNAs, including long non-coding RNA (lnc-RNA), circular RNA (circ-RNA), and other\n",
            "miRNAs [18].\n",
            "The role of miRNAs in human health continues to be an area of active research. Since\n",
            "the discovery of miRNA in C. elegans in 1993 and mammalian miRNA in 2000, the ﬁeld\n",
            "of miRNA research has grown dramatically [7]. In 2017 alone, there were ~11,000 studies\n",
            "on miRNA, with more than 6000 of these studies on miRNA diagnostics and therapeutics\n",
            "combined [19]. There is evidence of miRNA involvement in many medical conditions,\n",
            "including cardiovascular disease [20], various cancers [18,21–25], and infections [10,21–25].\n",
            "This review is aimed at succinctly summarizing the latest ﬁndings in (i) mechanisms\n",
            "underpinning miRNA regulation of viral infection and (ii) the host immune response to\n",
            "viral pathogens, (iii) miRNA diagnostics and therapeutics targeting viral pathogens, and\n",
            "(iv) the miRNA market landscape.\n",
            "Biology 2023, 12, 1334\n",
            "3 of 23\n",
            "2. Modes of miRNA-Mediated Gene Regulation\n",
            "Gene regulation by miRNA-RISC may occur through one of the following mechanisms:\n",
            "(i) site-speciﬁc cleavage, (ii) mRNA degradation, and (iii) translation inhibition [26,27].\n",
            "Site-speciﬁc cleavage occurs when there is a near-perfect match of miRNA to the target\n",
            "RNA. This process is called RNA interference (RNAi). In contrast, miRNA-directed mRNA\n",
            "degradation and translation inhibition are the non-cleavage modes of miRNA regulation.\n",
            "As early as 2004, it was demonstrated by the Bartel lab that miR-196 can effectively regulate\n",
            "gene expression by directed cleavage of HOXB8 mRNA [28]. Such miRNA cleavage activity\n",
            "utilizes AGO proteins [29]. miRNA-directed endonucleolytic cleavage of target mRNAs is\n",
            "more common in plants than animals but has a critical function [30,31]. In animals, cleavage\n",
            "of miRNA targets is a poorly understood concept, partly due to a lack of effort to investigate\n",
            "this phenomenon. Recent studies have demonstrated several animal miRNAs to target\n",
            "mRNA by cleavage, and a few examples of such miRNAs are Let-7 (targeting TUSC2) [32],\n",
            "miR-92 (targeting SERBP1) [33], miR-127 and miR-136 (targeting Rtl1/Peg11) [34].\n",
            "Multiple mechanisms are in place to regulate the miRNA-directed non-clea\n"
          ]
        }
      ],
      "source": [
        "page_content = doc[1481:10000]\n",
        "print(page_content)"
      ]
    },
    {
      "cell_type": "code",
      "execution_count": 22,
      "metadata": {
        "id": "7iTFx_bZdXDM"
      },
      "outputs": [],
      "source": [
        "results = extraction_chain.invoke({\"input\": page_content})"
      ]
    },
    {
      "cell_type": "code",
      "execution_count": 23,
      "metadata": {
        "colab": {
          "base_uri": "https://localhost:8080/"
        },
        "id": "rNoLlSdKeMpV",
        "outputId": "5ad47125-34b5-4add-f577-c61c26aca2b1"
      },
      "outputs": [
        {
          "data": {
            "text/plain": [
              "[{'entities_involved': ['miRNA', 'mRNA'],\n",
              "  'interaction_type': 'regulation',\n",
              "  'interaction_details': \"miRNA regulates mRNA translation by binding to the 3' UTR, coding sequence (CDS), or 5' UTR of mRNA to affect stability or translation.\"},\n",
              " {'entities_involved': ['miRNA', 'mRNA'],\n",
              "  'interaction_type': 'regulation',\n",
              "  'interaction_details': \"miRNA can trigger mRNA degradation pathway to downregulate protein production by binding to mRNA with a short complimentary sequence in the 3' UTR.\"},\n",
              " {'entities_involved': ['miRNA', 'mRNA'],\n",
              "  'interaction_type': 'regulation',\n",
              "  'interaction_details': 'miRNA may upregulate translation in some cases by directly interacting with mRNA.'},\n",
              " {'entities_involved': ['miRNA', 'mRNA'],\n",
              "  'interaction_type': 'regulation',\n",
              "  'interaction_details': 'In rare cases, miRNA can cleave mRNA through extensive base pairing, leading to rapid mRNA degradation.'},\n",
              " {'entities_involved': ['miRNA', 'mRNA'],\n",
              "  'interaction_type': 'regulation',\n",
              "  'interaction_details': 'miRNA can directly repress translation by decreasing ribosomal interaction with mRNA.'},\n",
              " {'entities_involved': ['miRNA', 'mRNA'],\n",
              "  'interaction_type': 'regulation',\n",
              "  'interaction_details': \"miRNA can bind to the 5' UTR or coding sequence (CDS) of mRNA to affect stability or translation.\"},\n",
              " {'entities_involved': ['miRNA', 'mRNA'],\n",
              "  'interaction_type': 'regulation',\n",
              "  'interaction_details': 'miRNA can bind to non-coding RNAs, including long non-coding RNA (lnc-RNA), circular RNA (circ-RNA), and other miRNAs.'},\n",
              " {'entities_involved': ['miRNA', 'AGO proteins'],\n",
              "  'interaction_type': 'binding',\n",
              "  'interaction_details': 'miRNA duplex binds to the RNA-induced silencing complex (RISC) containing AGO proteins.'},\n",
              " {'entities_involved': ['miRNA', 'AGO proteins'],\n",
              "  'interaction_type': 'regulation',\n",
              "  'interaction_details': 'The AGO protein family within RISC unwinds the miRNA duplex and selects one of the strands for further action.'},\n",
              " {'entities_involved': ['miRNA', 'mRNA'],\n",
              "  'interaction_type': 'regulation',\n",
              "  'interaction_details': 'miRNA can directly regulate transcription via promotor interactions or indirectly by targeting the mRNA of transcriptional regulators.'}]"
            ]
          },
          "execution_count": 23,
          "metadata": {},
          "output_type": "execute_result"
        }
      ],
      "source": [
        "results"
      ]
    },
    {
      "cell_type": "code",
      "execution_count": null,
      "metadata": {
        "id": "xJ2vWnO1mGsA"
      },
      "outputs": [],
      "source": [
        "from langchain.text_splitter import RecursiveCharacterTextSplitter\n",
        "text_splitter = RecursiveCharacterTextSplitter(chunk_overlap=0)\n",
        "\n",
        "splits = text_splitter.split_text(page_content)"
      ]
    },
    {
      "cell_type": "code",
      "execution_count": null,
      "metadata": {
        "colab": {
          "base_uri": "https://localhost:8080/"
        },
        "id": "H7KeKJh7n3v2",
        "outputId": "50dab377-00a0-49c3-8c92-b1518f2ca6a2"
      },
      "outputs": [
        {
          "data": {
            "text/plain": [
              "5"
            ]
          },
          "execution_count": 31,
          "metadata": {},
          "output_type": "execute_result"
        }
      ],
      "source": [
        "len(splits)"
      ]
    },
    {
      "cell_type": "code",
      "execution_count": null,
      "metadata": {
        "id": "rIej9eICoLjs"
      },
      "outputs": [],
      "source": [
        "# Define a function to flatten a 2D list (matrix) into a 1D list (flat list).\n",
        "def flatten(matrix):\n",
        "    flat_list = []\n",
        "    # Iterate through each row in the 2D list.\n",
        "    for row in matrix:\n",
        "        flat_list += row\n",
        "    # Return the flattened list.\n",
        "    return flat_list"
      ]
    },
    {
      "cell_type": "code",
      "execution_count": null,
      "metadata": {
        "id": "HBdjEktswaVg"
      },
      "outputs": [],
      "source": [
        "import time\n",
        "\n",
        "# Define a function that adds a delay to a Completion API call\n",
        "def delayed_completion(delay_in_seconds: float = 1, **kwargs):\n",
        "    \"\"\"Delay a completion by a specified amount of time.\"\"\"\n",
        "\n",
        "    # Sleep for the delay\n",
        "    time.sleep(delay_in_seconds)\n",
        "\n",
        "    # Call the Completion API and return the result\n",
        "    return ChatOpenAI(**kwargs)"
      ]
    },
    {
      "cell_type": "code",
      "execution_count": null,
      "metadata": {
        "id": "uzUkaIPKwqQA"
      },
      "outputs": [],
      "source": [
        "# Calculate the delay based on your rate limit\n",
        "rate_limit_per_minute = 3\n",
        "delay = 60.0 / rate_limit_per_minute"
      ]
    },
    {
      "cell_type": "code",
      "execution_count": null,
      "metadata": {
        "id": "Xlq76N-EwZRY"
      },
      "outputs": [],
      "source": [
        "timed_model = delayed_completion(delay_in_seconds=delay, model = \"gpt-3.5-turbo\",\n",
        "                                 temperature=0, openai_api_key=OPENAI_API_KEY)"
      ]
    },
    {
      "cell_type": "code",
      "execution_count": null,
      "metadata": {
        "id": "wioKSgxWxKuS"
      },
      "outputs": [],
      "source": [
        "extraction_timed_model = timed_model.bind(\n",
        "    functions=paper_extraction_function,\n",
        "    function_call={\"name\":\"Molecular_Interactions\"}\n",
        ")"
      ]
    },
    {
      "cell_type": "code",
      "execution_count": null,
      "metadata": {
        "id": "srdF02I2xUKe"
      },
      "outputs": [],
      "source": [
        "extraction_timed_chain = prompt | extraction_timed_model | JsonKeyOutputFunctionsParser(key_name=\"interactions\")"
      ]
    },
    {
      "cell_type": "code",
      "execution_count": null,
      "metadata": {
        "id": "ocSJ9UlfoP3J"
      },
      "outputs": [],
      "source": [
        "from langchain.schema.runnable import RunnableLambda"
      ]
    },
    {
      "cell_type": "code",
      "execution_count": null,
      "metadata": {
        "id": "OoGHR_iMoeiy"
      },
      "outputs": [],
      "source": [
        "# Create a RunnableLambda which is a function that can be used in a chain.\n",
        "# It takes a text input, splits it using the text splitter, and wraps each chunk in a dictionary.\n",
        "\n",
        "prep = RunnableLambda(\n",
        "    lambda x: [{\"input\": doc} for doc in text_splitter.split_text(x)]\n",
        ")"
      ]
    },
    {
      "cell_type": "code",
      "execution_count": null,
      "metadata": {
        "id": "nR1ozZCZoicO"
      },
      "outputs": [],
      "source": [
        "chain = prep | extraction_timed_chain.map() | flatten"
      ]
    },
    {
      "cell_type": "code",
      "execution_count": null,
      "metadata": {
        "id": "SwrMFStXUy-9"
      },
      "outputs": [],
      "source": [
        "page_content = doc[1481:20000]\n",
        "# print(page_content)"
      ]
    },
    {
      "cell_type": "code",
      "execution_count": null,
      "metadata": {
        "id": "9W0XsFoeonob"
      },
      "outputs": [],
      "source": [
        "results = chain.invoke(page_content)"
      ]
    },
    {
      "cell_type": "code",
      "execution_count": null,
      "metadata": {
        "colab": {
          "base_uri": "https://localhost:8080/"
        },
        "id": "MYZ8P-49DPxs",
        "outputId": "15515c07-b8ca-4860-a0e9-0eb73a2ebd6f"
      },
      "outputs": [
        {
          "data": {
            "text/plain": [
              "[{'entities_involved': ['miRNA', 'DNA'],\n",
              "  'interaction_type': 'regulation',\n",
              "  'interaction_details': 'miRNA regulates more than 60% of all human protein-coding genes at the post-transcriptional level.'},\n",
              " {'entities_involved': ['miRNA', 'mRNA'],\n",
              "  'interaction_type': 'regulation',\n",
              "  'interaction_details': 'miRNA enhances or represses the translation of mRNA at the post-transcriptional level.'},\n",
              " {'entities_involved': ['miRNA', 'messenger RNA (mRNA)'],\n",
              "  'interaction_type': 'binding',\n",
              "  'interaction_details': 'miRNA binds to mRNA to synergistically repress translation'},\n",
              " {'entities_involved': ['miRNA', 'mRNA'],\n",
              "  'interaction_type': 'binding',\n",
              "  'interaction_details': 'miRNA binds to mRNA with a short target sequence that may be common between different groups of miRNAs'},\n",
              " {'entities_involved': ['miRNA', 'mRNA'],\n",
              "  'interaction_type': 'degradation',\n",
              "  'interaction_details': 'miRNA triggers mRNA degradation pathway to downregulate protein production'},\n",
              " {'entities_involved': ['miRNA', 'mRNA'],\n",
              "  'interaction_type': 'binding',\n",
              "  'interaction_details': 'miRNA can interact with the 3′ untranslated region (UTR) of mRNA with a perfect or near-perfect ~7-nucleotide base pairing with the seed sequence in miRNA'},\n",
              " {'entities_involved': ['miRNA', 'mRNA'],\n",
              "  'interaction_type': 'binding',\n",
              "  'interaction_details': 'miRNA can alternatively interact with the 5′ UTR or coding sequence (CDS) of mRNA to affect stability or translation'},\n",
              " {'entities_involved': ['miRNA', 'mRNA'],\n",
              "  'interaction_type': 'degradation',\n",
              "  'interaction_details': 'miRNA destabilizes the target mRNA, accelerating the standard degradation process'},\n",
              " {'entities_involved': ['miRNA', 'mRNA'],\n",
              "  'interaction_type': 'cleavage',\n",
              "  'interaction_details': 'In rare cases with extensive base pairing, AGO may directly cleave mRNA, making it susceptible to rapid degradation'},\n",
              " {'entities_involved': ['miRNA', 'mRNA'],\n",
              "  'interaction_type': 'upregulation',\n",
              "  'interaction_details': 'miRNA has been shown to upregulate translation in some cases'},\n",
              " {'entities_involved': ['miRNA', 'mRNA'],\n",
              "  'interaction_type': 'regulation',\n",
              "  'interaction_details': 'miRNA may directly regulate transcription via promotor interactions or indirectly by targeting the mRNA of transcriptional regulators'},\n",
              " {'entities_involved': ['miRNA', 'non-coding RNAs'],\n",
              "  'interaction_type': 'binding',\n",
              "  'interaction_details': 'miRNA can bind to non-coding RNAs, including long non-coding RNA (lnc-RNA), circular RNA (circ-RNA), and other miRNAs'},\n",
              " {'entities_involved': ['miRNA', 'target mRNAs'],\n",
              "  'interaction_type': 'cleavage',\n",
              "  'interaction_details': 'miRNA-directed endonucleolytic cleavage of target mRNAs'},\n",
              " {'entities_involved': ['miR-181a', 'immune cell processes'],\n",
              "  'interaction_type': 'regulation',\n",
              "  'interaction_details': 'miR-181a is involved in T cell development, homeostasis, activation, and proliferation. It may play a role in B cell development and promotes Natural Killer (NK) cell development from Hematopoietic Progenitor Cells (HPCs). It inhibits the production of IL-1a and other inflammatory factors in macrophages and monocytes. It regulates monocyte-derived dendritic cell activation and the release of inflammatory cytokines.'},\n",
              " {'entities_involved': ['miR-126',\n",
              "   'miR-146a',\n",
              "   'miR-150',\n",
              "   'miR-17-92',\n",
              "   'T cell development'],\n",
              "  'interaction_type': 'regulation',\n",
              "  'interaction_details': 'Differential expression of miR-126, miR-146a, miR-150, and miR-17-92 is involved in the regulation of T cell development in the thymus.'},\n",
              " {'entities_involved': ['miR-125b', 'miR-10a', 'immune cells'],\n",
              "  'interaction_type': 'regulation',\n",
              "  'interaction_details': 'Expression levels of miR-125b and miR-10a decrease with differentiation, affecting key physiological differences between immune cells. miR-125b targets transcription factors involved in B cell and T cell differentiation, while miR-10a targets transcription factors required for monocytopoiesis and megakaryocyte differentiation.'},\n",
              " {'entities_involved': ['miR-142',\n",
              "   'type 1 Innate Lymphoid Cells (ILCs)',\n",
              "   'NK cells',\n",
              "   'cytokines'],\n",
              "  'interaction_type': 'regulation',\n",
              "  'interaction_details': 'miR-142 maintains cell levels of type 1 Innate Lymphoid Cells (ILCs) and NK cell survival. It influences the response to cytokines, contributing to the susceptibility of miR-142-deficient mice to Murine Cytomegalovirus (MCMV) infection.'},\n",
              " {'entities_involved': ['KSHV', 'ACE2'],\n",
              "  'interaction_type': 'binding',\n",
              "  'interaction_details': 'Interaction between KSHV and ACE2 on the host cell surface for internalization and establishment of infection.'},\n",
              " {'entities_involved': ['KSHV', 'integrins'],\n",
              "  'interaction_type': 'binding',\n",
              "  'interaction_details': 'Interaction between KSHV and integrins on the host cell surface for internalization and establishment of infection.'},\n",
              " {'entities_involved': ['v-miRs', 'host mRNA'],\n",
              "  'interaction_type': 'binding',\n",
              "  'interaction_details': 'v-miRs targeting host mRNA directly, binding to the 3′ or 5′ UTR to destabilize the transcript and trigger degradation pathway of cellular mRNAs.'},\n",
              " {'entities_involved': ['v-miRs', 'host mRNA'],\n",
              "  'interaction_type': 'binding',\n",
              "  'interaction_details': 'v-miRs binding to the 5′UTR of host mRNA, preventing translation without altering mRNA levels in the cell.'},\n",
              " {'entities_involved': ['v-miRs', 'host mRNA'],\n",
              "  'interaction_type': 'binding',\n",
              "  'interaction_details': 'v-miRs binding to the 5′UTR of host mRNA, increasing mRNA stability, preventing degradation, and upregulating gene expression.'},\n",
              " {'entities_involved': ['v-miRs', 'RNA viral genome'],\n",
              "  'interaction_type': 'binding',\n",
              "  'interaction_details': 'v-miRs binding to the 5′ non-translated region (NTR) of RNA viral genome, increasing RNA viral genome stability.'},\n",
              " {'entities_involved': ['v-miRs', 'host miRNAs'],\n",
              "  'interaction_type': 'binding',\n",
              "  'interaction_details': 'v-miRs acting as functional mimics of host miRNAs by targeting unique binding sites or binding to the same site as corresponding endogenous miRNAs.'},\n",
              " {'entities_involved': ['HCV', 'host miRNAs'],\n",
              "  'interaction_type': 'regulation',\n",
              "  'interaction_details': 'HCV regulating endogenous miRNA levels in infected cells.'},\n",
              " {'entities_involved': ['viruses', 'host miRNAs'],\n",
              "  'interaction_type': 'regulation',\n",
              "  'interaction_details': 'Viruses inducing the synthesis of host miRNAs upon entry, encoding proteins that degrade or upregulate host miRNAs.'}]"
            ]
          },
          "execution_count": 40,
          "metadata": {},
          "output_type": "execute_result"
        }
      ],
      "source": [
        "results"
      ]
    },
    {
      "cell_type": "code",
      "execution_count": null,
      "metadata": {
        "id": "UzCoO6zuewNW"
      },
      "outputs": [],
      "source": [
        "import json\n",
        "\n",
        "\n",
        "def convert_to_cx2(extracted_data):\n",
        "    # Initialize the CX2 format structure\n",
        "    cx2_network = {\n",
        "        \"nodes\": [],\n",
        "        \"edges\": [],\n",
        "        \"networkAttributes\": [],\n",
        "        \"nodeAttributes\": [],\n",
        "        \"edgeAttributes\": []\n",
        "    }\n",
        "\n",
        "    # Define node and edge ids\n",
        "    node_id = 1\n",
        "    edge_id = 1\n",
        "\n",
        "    # Maps to keep track of nodes and ensure they're unique\n",
        "    nodes_map = {}\n",
        "\n",
        "    # Process each interaction\n",
        "    for interaction in extracted_data:\n",
        "        for entity in interaction['entities_involved']:\n",
        "            if entity not in nodes_map:\n",
        "                nodes_map[entity] = node_id\n",
        "                cx2_network['nodes'].append({\"@id\": node_id, \"n\": entity})\n",
        "                node_id += 1\n",
        "\n",
        "        source_node_id = nodes_map[interaction['entities_involved'][0]]\n",
        "        target_node_id = nodes_map[interaction['entities_involved'][1]]\n",
        "\n",
        "        # Add edge based on the interaction\n",
        "        cx2_network['edges'].append({\"@id\": edge_id, \"s\": source_node_id, \"t\": target_node_id, \"i\": interaction['interaction_type']})\n",
        "        edge_id += 1\n",
        "\n",
        "        # Optionally, add edge attributes if interaction_details are present\n",
        "        if interaction.get('interaction_details'):\n",
        "            cx2_network['edgeAttributes'].append({\n",
        "                \"po\": edge_id - 1,          #property_of edge attribute\n",
        "                \"n\": \"interaction_details\",\n",
        "                \"v\": interaction['interaction_details']\n",
        "            })\n",
        "\n",
        "    return cx2_network"
      ]
    },
    {
      "cell_type": "code",
      "execution_count": null,
      "metadata": {
        "id": "7vwB8-C4jhtl"
      },
      "outputs": [],
      "source": [
        "# Convert extracted data to CX2 format\n",
        "cx2_network = convert_to_cx2(results)\n",
        "\n",
        "# Convert CX2 data to JSON\n",
        "cx2_json = json.dumps(cx2_network, indent=4)"
      ]
    },
    {
      "cell_type": "code",
      "execution_count": null,
      "metadata": {
        "colab": {
          "base_uri": "https://localhost:8080/"
        },
        "id": "6pf83PvQnLR2",
        "outputId": "77bfd7e5-3149-44ef-cfaf-999176043570"
      },
      "outputs": [
        {
          "data": {
            "text/plain": [
              "{'nodes': [{'@id': 1, 'n': 'miRNA'},\n",
              "  {'@id': 2, 'n': 'mRNA'},\n",
              "  {'@id': 3, 'n': 'AGO proteins'},\n",
              "  {'@id': 4, 'n': 'HOXB8 mRNA'},\n",
              "  {'@id': 5, 'n': 'TUSC2'},\n",
              "  {'@id': 6, 'n': 'SERBP1'},\n",
              "  {'@id': 7, 'n': 'Rtl1/Peg11'}],\n",
              " 'edges': [{'@id': 1, 's': 1, 't': 2, 'i': 'regulation'},\n",
              "  {'@id': 2, 's': 1, 't': 3, 'i': 'cleavage'},\n",
              "  {'@id': 3, 's': 1, 't': 4, 'i': 'cleavage'},\n",
              "  {'@id': 4, 's': 1, 't': 5, 'i': 'cleavage'},\n",
              "  {'@id': 5, 's': 1, 't': 6, 'i': 'cleavage'},\n",
              "  {'@id': 6, 's': 1, 't': 7, 'i': 'cleavage'}],\n",
              " 'networkAttributes': [],\n",
              " 'nodeAttributes': [],\n",
              " 'edgeAttributes': [{'po': 1,\n",
              "   'n': 'interaction_details',\n",
              "   'v': \"miRNA regulates mRNA translation by binding to the 3' UTR, coding sequence (CDS), or 5' UTR of mRNA. This interaction can lead to mRNA degradation, decreased ribosomal interaction, or upregulation of translation.\"},\n",
              "  {'po': 2,\n",
              "   'n': 'interaction_details',\n",
              "   'v': 'miRNA can cleave target mRNAs in a site-specific manner, known as RNA interference (RNAi), utilizing AGO proteins for the cleavage process.'},\n",
              "  {'po': 3,\n",
              "   'n': 'interaction_details',\n",
              "   'v': 'miR-196 regulates gene expression by cleaving HOXB8 mRNA, demonstrating miRNA cleavage activity.'},\n",
              "  {'po': 4,\n",
              "   'n': 'interaction_details',\n",
              "   'v': 'Let-7 miRNA targets TUSC2 mRNA for cleavage.'},\n",
              "  {'po': 5,\n",
              "   'n': 'interaction_details',\n",
              "   'v': 'miR-92 targets SERBP1 mRNA for cleavage.'},\n",
              "  {'po': 6,\n",
              "   'n': 'interaction_details',\n",
              "   'v': 'miR-127 and miR-136 target Rtl1/Peg11 mRNA for cleavage.'}]}"
            ]
          },
          "execution_count": 19,
          "metadata": {},
          "output_type": "execute_result"
        }
      ],
      "source": [
        "cx2_network"
      ]
    },
    {
      "cell_type": "code",
      "execution_count": null,
      "metadata": {
        "id": "IbVfPGfrMI7w"
      },
      "outputs": [],
      "source": []
    }
  ],
  "metadata": {
    "colab": {
      "provenance": []
    },
    "kernelspec": {
      "display_name": "Python 3",
      "name": "python3"
    },
    "language_info": {
      "codemirror_mode": {
        "name": "ipython",
        "version": 3
      },
      "file_extension": ".py",
      "mimetype": "text/x-python",
      "name": "python",
      "nbconvert_exporter": "python",
      "pygments_lexer": "ipython3",
      "version": "3.11.3"
    }
  },
  "nbformat": 4,
  "nbformat_minor": 0
}
